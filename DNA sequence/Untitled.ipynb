{
 "cells": [
  {
   "cell_type": "code",
   "execution_count": null,
   "id": "9c19b4f3-1d8d-43f8-8855-9b1fe3fda474",
   "metadata": {},
   "outputs": [],
   "source": [
    "f = open(r\"C:\\Users\\user\\DNA sequence\\project0.fq\")\n",
    "dey_f = fastq.reader(f)\n",
    "\n",
    "sequences = []\n",
    "\n",
    "for lines in dey_f:\n",
    "    fh.readline() # skip name line\n",
    "            seq = fh.readline().rstrip() # read base sequence\n",
    "            fh.readline() # skip placeholder line\n",
    "            qual = fh.readline().rstrip() #base quality line\n",
    "            if len(seq) == 0:\n",
    "                break\n",
    "            sequences.append(seq)\n",
    " print(sequences)"
   ]
  },
  {
   "cell_type": "code",
   "execution_count": null,
   "id": "a44f0026-c3b7-46ea-9f09-ff4408a52cbd",
   "metadata": {},
   "outputs": [],
   "source": []
  },
  {
   "cell_type": "code",
   "execution_count": null,
   "id": "a047900d-8438-4e9c-919e-f4f827f4ab96",
   "metadata": {},
   "outputs": [],
   "source": []
  }
 ],
 "metadata": {
  "kernelspec": {
   "display_name": "Python 3 (ipykernel)",
   "language": "python",
   "name": "python3"
  },
  "language_info": {
   "name": ""
  }
 },
 "nbformat": 4,
 "nbformat_minor": 5
}
