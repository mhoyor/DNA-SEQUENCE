{
 "cells": [
  {
   "cell_type": "code",
   "execution_count": null,
   "id": "692be577-ae71-41fe-b3e2-9f8b66860ddd",
   "metadata": {},
   "outputs": [],
   "source": [
    "f = open('stu_11.dat')\n",
    "n=0\n",
    "s = open(\"P2.txt\", \"a\")\n",
    "for line in f:\n",
    "    line = line.strip()\n",
    "    n+=1\n",
    "    if 'Query_25' in line: #The Query name will be changed for each patient\n",
    "        print(line, file=s)\n",
    "    elif '...' in line:\n",
    "        print(line, file=s)\n",
    "    elif 'Lambda' in line:\n",
    "        break\n",
    "s.close()"
   ]
  },
  {
   "cell_type": "code",
   "execution_count": null,
   "id": "ad66d396-6768-4a17-9013-e3740353ee86",
   "metadata": {},
   "outputs": [],
   "source": [
    "y = open('p2.txt', \"r\")\n",
    "h = open(\"p5.txt\", \"w\")\n",
    "for lines in y:\n",
    "    d = lines.split()\n",
    "    t = d[2: -1]\n",
    "    h.write(','.join(t) + '\\n')\n",
    "h.close()"
   ]
  },
  {
   "cell_type": "code",
   "execution_count": null,
   "id": "edf168c3-6700-404c-ba63-546b9bd95a6c",
   "metadata": {},
   "outputs": [],
   "source": [
    "def readFastq(filename): #filename serves as a placeholder for the file to be imported\n",
    "   \n",
    "    DNAs = [] # a set of empty lists to place the data read\n",
    "    hap_A = []\n",
    "    hap_B = []\n",
    "    \n",
    "    # a loop to open the file \n",
    "    with open(filename, 'r') as ifh:\n",
    "        for MDNA, hA, hB in zip(ifh, ifh, ifh):\n",
    "                \n",
    "                DNAs.append(MDNA)          # file content appended to the appropriate field\n",
    "                hap_A.append(hA.strip())\n",
    "                hap_B.append(hB.strip())\n",
    "            \n",
    "    return DNA, hap_A, hap_B\n",
    "\n",
    "# file content stored as a variable \n",
    "DNA, hapA, hapB = readFastq(r\"C:\\Users\\user\\DNA sequence\\p5.txt\")\n",
    "hapA= ''.join(map(str, hapA))\n",
    "hapB= ''.join(map(str, hapB))"
   ]
  },
  {
   "cell_type": "code",
   "execution_count": null,
   "id": "8e5884af-db91-4bea-8a15-c0588379b803",
   "metadata": {},
   "outputs": [],
   "source": [
    "s = hapA\n",
    "v = hapB\n",
    "NodeA = []\n",
    "NodeB = []\n",
    "nS = len(s)\n",
    "nV = len(v)\n",
    "for i in range(nS):\n",
    "    if s[i] == 'A':\n",
    "        NodeA.append(i+1)\n",
    "    elif s[i] == 'C':\n",
    "         NodeA.append(i+1)\n",
    "    elif s[i] == 'G':\n",
    "         NodeA.append(i+1)\n",
    "    elif s[i] == 'T':\n",
    "         NodeA.append(i+1)\n",
    "for i in range(nV):\n",
    "    if v[i] == 'A':\n",
    "        NodeB.append(i+1)\n",
    "    elif v[i] == 'C':\n",
    "         NodeB.append(i+1)\n",
    "    elif v[i] == 'G':\n",
    "         NodeB.append(i+1)\n",
    "    elif v[i] == 'T':\n",
    "         NodeB.append(i+1)\n",
    "print(NodeA)\n",
    "print()\n",
    "print(NodeB)"
   ]
  }
 ],
 "metadata": {
  "kernelspec": {
   "display_name": "Python 3 (ipykernel)",
   "language": "python",
   "name": "python3"
  },
  "language_info": {
   "codemirror_mode": {
    "name": "ipython",
    "version": 3
   },
   "file_extension": ".py",
   "mimetype": "text/x-python",
   "name": "python",
   "nbconvert_exporter": "python",
   "pygments_lexer": "ipython3",
   "version": "3.8.6"
  }
 },
 "nbformat": 4,
 "nbformat_minor": 5
}
